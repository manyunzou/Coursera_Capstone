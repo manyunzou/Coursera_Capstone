{
 "cells": [
  {
   "cell_type": "markdown",
   "metadata": {},
   "source": [
    "# Business Proposal and Data Description"
   ]
  },
  {
   "cell_type": "markdown",
   "metadata": {},
   "source": [
    "## Business Proposal"
   ]
  },
  {
   "cell_type": "markdown",
   "metadata": {},
   "source": [
    "### Introduction"
   ]
  },
  {
   "cell_type": "markdown",
   "metadata": {},
   "source": [
    "My friend, who is a very recent immigrant in Canada and has a great passion for cuisine, wants to start a restaurant business targeting Chinese students in the college town. Right now, she has two options in mind, the University of Toronto or the University of British Columbia (in Vancouver, Canada). \n",
    "\n",
    "Although she has been well-informed that many Chinese families reside in these two cities, she has her concerns. What if these two college towns are already filled with high densities of a Chinese restaurant and her business would be engaged in fierce competitions from the beginning?\n",
    "\n",
    "Therefore, she asks me to help her out, trying to evaluate the nearby neighborhoods, and figure out whether she should continue her business plan. If not, why not? Otherwise, where should she land the new business and, if possible, what kind of Chinese dishes should she be serving?"
   ]
  },
  {
   "cell_type": "markdown",
   "metadata": {},
   "source": [
    "### Problem to be solved:"
   ]
  },
  {
   "cell_type": "markdown",
   "metadata": {},
   "source": [
    "(1)  How many Chinese restaurants list around the University of Toronto and the University of British Columbia?  \n",
    "\n",
    "(2)  Which neighborhoods do they locate at?  \n",
    "\n",
    "(3)  What kind of Chinese food serve the most there? How about the price?  \n",
    "\n",
    "(4)  Which are the most popular Chinese restaurants? How do they look like?"
   ]
  },
  {
   "cell_type": "markdown",
   "metadata": {},
   "source": [
    "### Target Audience"
   ]
  },
  {
   "cell_type": "markdown",
   "metadata": {},
   "source": [
    "People like my friend, who have interests in launching a new Chinese restaurant around the University of Toronto or the University of British Columbia college town. \n",
    "\n",
    "Furthermore, my analysis method may be applied to help many other kinds of business starters. It is not only limited to Chinese food or even the catering business. "
   ]
  },
  {
   "cell_type": "markdown",
   "metadata": {},
   "source": [
    "## Data Description"
   ]
  },
  {
   "cell_type": "markdown",
   "metadata": {},
   "source": [
    "### Main Data Source"
   ]
  },
  {
   "cell_type": "markdown",
   "metadata": {},
   "source": [
    "#### Foursquare location data  \n",
    "##### API Endpoints will be used:  \n",
    "    (1) Explore. To find the nearby venues around the univeristies. The radius would be 5 km.  \n",
    "    https://developer.foursquare.com/docs/api-reference/venues/explore/  \n",
    "    (2) Categories id. The FourSquare has a very detailed list of Chinese restaurant categories, including many Chinese local cuisine styles, like Hainan restaurant, Hunan restaurant, and more.  \n",
    "    https://developer.foursquare.com/docs/build-with-foursquare/categories/  \n",
    "    (3) Venue stats. Get the total checkin and sharing numbers of an venue, for determing the popularities.\n",
    "    https://developer.foursquare.com/docs/api-reference/venues/stats/"
   ]
  },
  {
   "cell_type": "markdown",
   "metadata": {},
   "source": [
    "#### geopy.geocoders\n",
    "To get the longtitude and langtitude of the universities. "
   ]
  },
  {
   "cell_type": "markdown",
   "metadata": {},
   "source": [
    "### Work Flow"
   ]
  },
  {
   "cell_type": "markdown",
   "metadata": {},
   "source": [
    "(1) Request for the location data of the universities. \n",
    "\n",
    "(2) Getting the nearby Chinese business listings.  \n",
    "\n",
    "(3) Getting other attributes of the businesses, like checkin numbers.  \n",
    "\n",
    "(4) Clean and organize the data.  \n",
    "\n",
    "(5) Find out which neighborhoods they locate at. Which street has the highest densities?  \n",
    "\n",
    "(6) Find out the most popular ones. Why they are so specical?  "
   ]
  }
 ],
 "metadata": {
  "kernelspec": {
   "display_name": "Python 3",
   "language": "python",
   "name": "python3"
  },
  "language_info": {
   "codemirror_mode": {
    "name": "ipython",
    "version": 3
   },
   "file_extension": ".py",
   "mimetype": "text/x-python",
   "name": "python",
   "nbconvert_exporter": "python",
   "pygments_lexer": "ipython3",
   "version": "3.7.4"
  },
  "toc": {
   "base_numbering": 1,
   "nav_menu": {},
   "number_sections": true,
   "sideBar": true,
   "skip_h1_title": false,
   "title_cell": "Table of Contents",
   "title_sidebar": "Contents",
   "toc_cell": false,
   "toc_position": {},
   "toc_section_display": true,
   "toc_window_display": false
  }
 },
 "nbformat": 4,
 "nbformat_minor": 2
}
